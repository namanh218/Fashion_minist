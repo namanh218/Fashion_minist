{
  "nbformat": 4,
  "nbformat_minor": 0,
  "metadata": {
    "colab": {
      "name": "Fashion_minist.ipynb",
      "provenance": [],
      "collapsed_sections": []
    },
    "kernelspec": {
      "name": "python3",
      "display_name": "Python 3"
    }
  },
  "cells": [
    {
      "cell_type": "markdown",
      "metadata": {
        "id": "mf1oSma0rjMe",
        "colab_type": "text"
      },
      "source": [
        "![alt text](https://cdn-images-1.medium.com/max/638/1*PtQ2I-3RIFiCypor4u_Nbg.jpeg)"
      ]
    },
    {
      "cell_type": "markdown",
      "metadata": {
        "id": "5fpDbSR0nIgR",
        "colab_type": "text"
      },
      "source": [
        "**DICKY**\n",
        "\n",
        "What is the probleme:\n",
        "*   Classification all the label with data from kaggle\n",
        "\n",
        "\n",
        "Data:\n",
        "*   Data with 2 color and for with more than 700 pixel\n",
        "*   Data has 60000 samples\n",
        "\n",
        "How to do:\n",
        "*   First we need import all the library\n",
        "*   Playground with data\n",
        "*   Visualize the data\n",
        "*   Reduce dimension of data to 200\n",
        "*   Choose the suitable paramester\n",
        "*   Pipeline to execute with pca and run predict by logistic and random forrest\n",
        "*   Export file\n",
        "\n"
      ]
    },
    {
      "cell_type": "code",
      "metadata": {
        "id": "_pJofvQGi1f3",
        "colab_type": "code",
        "colab": {}
      },
      "source": [
        "# import library\n",
        "import pandas as pd\n",
        "import matplotlib.pyplot as plt\n",
        "import matplotlib.image as mpimg\n",
        "import numpy as np\n",
        "import matplotlib.pyplot as plt\n",
        "import seaborn as sns\n",
        "import warnings\n",
        "warnings.filterwarnings('ignore')\n",
        "%matplotlib inline\n",
        "from sklearn.model_selection import train_test_split\n",
        "from sklearn.model_selection import validation_curve\n",
        "from sklearn.model_selection import GridSearchCV\n",
        "from sklearn.decomposition import PCA\n",
        "from sklearn.ensemble import RandomForestClassifier\n",
        "from sklearn.linear_model import LogisticRegression\n",
        "from sklearn.metrics import accuracy_score, confusion_matrix\n",
        "from sklearn.pipeline import Pipeline\n"
      ],
      "execution_count": 0,
      "outputs": []
    },
    {
      "cell_type": "code",
      "metadata": {
        "id": "HuonFO6U2J0n",
        "colab_type": "code",
        "colab": {}
      },
      "source": [
        "from google.colab import drive\n",
        "drive.mount('/content/drive')"
      ],
      "execution_count": 0,
      "outputs": []
    },
    {
      "cell_type": "code",
      "metadata": {
        "id": "5n-AEjzJjqYw",
        "colab_type": "code",
        "colab": {}
      },
      "source": [
        "# Make dataframe for dataset\n",
        "data = pd.read_csv('/content/fashion-mnist_train.csv')\n",
        "test = pd.read_csv('/content/fashion-mnist_test.csv')"
      ],
      "execution_count": 0,
      "outputs": []
    },
    {
      "cell_type": "code",
      "metadata": {
        "id": "fENY7dvjrHHY",
        "colab_type": "code",
        "colab": {}
      },
      "source": [
        "# Choose 5 samples\n",
        "data.sample(5)"
      ],
      "execution_count": 0,
      "outputs": []
    },
    {
      "cell_type": "code",
      "metadata": {
        "id": "zrGTM6jcrPPf",
        "colab_type": "code",
        "colab": {}
      },
      "source": [
        "# Choose 5 samples\n",
        "test.sample(5)"
      ],
      "execution_count": 0,
      "outputs": []
    },
    {
      "cell_type": "code",
      "metadata": {
        "id": "AcIb2frtVZEq",
        "colab_type": "code",
        "colab": {}
      },
      "source": [
        "# info dataframe\n",
        "data.info()"
      ],
      "execution_count": 0,
      "outputs": []
    },
    {
      "cell_type": "code",
      "metadata": {
        "id": "8E4oVuaYrFhF",
        "colab_type": "code",
        "colab": {}
      },
      "source": [
        "# info dataframe\n",
        "test.info()"
      ],
      "execution_count": 0,
      "outputs": []
    },
    {
      "cell_type": "code",
      "metadata": {
        "id": "BfjzId5srXOI",
        "colab_type": "code",
        "colab": {}
      },
      "source": [
        "# info dataframe\n",
        "data.describe()"
      ],
      "execution_count": 0,
      "outputs": []
    },
    {
      "cell_type": "code",
      "metadata": {
        "id": "Zg9o7imEkfDk",
        "colab_type": "code",
        "colab": {}
      },
      "source": [
        "# info dataframe\n",
        "test.describe()"
      ],
      "execution_count": 0,
      "outputs": []
    },
    {
      "cell_type": "code",
      "metadata": {
        "id": "St2w80Gv0UU7",
        "colab_type": "code",
        "colab": {}
      },
      "source": [
        "# Split train, test\n",
        "X_train = data.drop('label', axis = 1)\n",
        "y_train = data[['label']]\n",
        "X_test = test.drop('label', axis = 1)\n",
        "y_test = test['label']"
      ],
      "execution_count": 0,
      "outputs": []
    },
    {
      "cell_type": "code",
      "metadata": {
        "id": "Xs61R2OntSUh",
        "colab_type": "code",
        "colab": {}
      },
      "source": [
        "# Plot figure\n",
        "plt.figure(figsize = (20,10))\n",
        "plt.plot(np.cumsum(PCA().fit(X_train).explained_variance_ratio_))\n",
        "plt.grid()"
      ],
      "execution_count": 0,
      "outputs": []
    },
    {
      "cell_type": "code",
      "metadata": {
        "id": "9ct5xmE4vK5J",
        "colab_type": "code",
        "colab": {}
      },
      "source": [
        "# Show imange\n",
        "index = np.random.randint(1, len(data))\n",
        "fig, (ax1, ax2) = plt.subplots(2,1, figsize =(20,10))\n",
        "ax2.hist(X_train.iloc[index, 1:], 20)\n",
        "ax1.imshow(train[index, 1:].reshape(28,28) )"
      ],
      "execution_count": 0,
      "outputs": []
    },
    {
      "cell_type": "code",
      "metadata": {
        "id": "ix24g7tNo4eJ",
        "colab_type": "code",
        "colab": {}
      },
      "source": [
        "# reduce dimension\n",
        "pca = PCA(n_components = 200)\n",
        "train_pca = pca.fit_transform(X_train)\n",
        "test_pca = pca.transform(X_test)"
      ],
      "execution_count": 0,
      "outputs": []
    },
    {
      "cell_type": "code",
      "metadata": {
        "id": "AzN9USYnsW3e",
        "colab_type": "code",
        "colab": {}
      },
      "source": [
        "# check components\n",
        "pca.components_.shape"
      ],
      "execution_count": 0,
      "outputs": []
    },
    {
      "cell_type": "code",
      "metadata": {
        "id": "uxxX-rkLssz5",
        "colab_type": "code",
        "colab": {}
      },
      "source": [
        "# check variance ratio\n",
        "pca.explained_variance_ratio_"
      ],
      "execution_count": 0,
      "outputs": []
    },
    {
      "cell_type": "code",
      "metadata": {
        "id": "lyXKx82IvwqH",
        "colab_type": "code",
        "colab": {}
      },
      "source": [
        "# check n_estimator, max_depth, min_samples_leaf\n",
        "train_ac, cv_ac = validation_curve(RandomForestClassifier(), X_train, y_train, 'n_estimators', np.arange(5,10,50,100,200,500), cv = 10, n_jobs = -1)"
      ],
      "execution_count": 0,
      "outputs": []
    },
    {
      "cell_type": "code",
      "metadata": {
        "id": "iEt1zjIeICLy",
        "colab_type": "code",
        "colab": {}
      },
      "source": [
        "# plot train_ac and cv_ac\n",
        "mean_train = np.mean(train_ac, axis = 1)\n",
        "mean_cv = np.mean(cv_ac, axis = 1)\n",
        "plt.plot((10,15), mean_train, label = 'train')\n",
        "plt.plot((10,15), mean_cv, label = 'cv')\n",
        "plt.legend()\n",
        "plt.show()"
      ],
      "execution_count": 0,
      "outputs": []
    },
    {
      "cell_type": "code",
      "metadata": {
        "id": "-25yii56ISWJ",
        "colab_type": "code",
        "colab": {}
      },
      "source": [
        "# max_depth = 8\n",
        "# min_samples_leaf = np.arange(5,8)\n",
        "# n_estimators = 15"
      ],
      "execution_count": 0,
      "outputs": []
    },
    {
      "cell_type": "code",
      "metadata": {
        "id": "nNXp5LaF9Xfc",
        "colab_type": "code",
        "colab": {}
      },
      "source": [
        "# Execute grid search\n",
        "paramester = {\n",
        "    'n_estimators' : np.arange(5,20),\n",
        "    'max_depth': np.arange(5,10),\n",
        "    'min_samples_leaf': np.arange(5,10)\n",
        "}\n",
        "grid = GridSearchCV(RandomForestClassifier(), paramester, cv = 10, n_jobs = -1) \n",
        "grid.fit(X_train,y_train)"
      ],
      "execution_count": 0,
      "outputs": []
    },
    {
      "cell_type": "code",
      "metadata": {
        "id": "psorzQCPnzEf",
        "colab_type": "code",
        "colab": {}
      },
      "source": [
        "# Run pipeline for pca and rfc\n",
        "pl_rfc = Pipeline([('dim', pca), ('rfc', RandomForestClassifier(max_depth = 9, min_samples_leaf = 5, n_estimators = 20, random_state= 101))])\n",
        "pl_rfc.fit(X_train, y_train)"
      ],
      "execution_count": 0,
      "outputs": []
    },
    {
      "cell_type": "code",
      "metadata": {
        "id": "va9CbCX5_Oaf",
        "colab_type": "code",
        "colab": {}
      },
      "source": [
        "# Run pipeline for pca and lg\n",
        "pl_lg = Pipeline([('dim', pca),('lg', LogisticRegression(random_state=101))])\n",
        "pl_lg.fit(X_train, y_train)"
      ],
      "execution_count": 0,
      "outputs": []
    },
    {
      "cell_type": "code",
      "metadata": {
        "id": "Mfh-KRaN1ANQ",
        "colab_type": "code",
        "colab": {}
      },
      "source": [
        "# Check accuracy score for rfc\n",
        "accuracy_score(y_test,pl_rfc.predict(X_test))"
      ],
      "execution_count": 0,
      "outputs": []
    },
    {
      "cell_type": "code",
      "metadata": {
        "id": "14r7WF-RPPty",
        "colab_type": "code",
        "colab": {}
      },
      "source": [
        "# Check confusion matrix for rfc\n",
        "confusion_matrix(y_test, pl_rfc.predict(X_test))"
      ],
      "execution_count": 0,
      "outputs": []
    },
    {
      "cell_type": "code",
      "metadata": {
        "id": "dctrDoSc2Hul",
        "colab_type": "code",
        "colab": {}
      },
      "source": [
        "# Check accuracy score for lg\n",
        "accuracy_score(y_test, pl_lg.predict(X_test))"
      ],
      "execution_count": 0,
      "outputs": []
    },
    {
      "cell_type": "code",
      "metadata": {
        "id": "647KeIoZ_v1l",
        "colab_type": "code",
        "colab": {}
      },
      "source": [
        "# Check confusion matrix for lg\n",
        "confusion_matrix(y_test, pl_lg.predict(X_test))"
      ],
      "execution_count": 0,
      "outputs": []
    },
    {
      "cell_type": "code",
      "metadata": {
        "id": "FPcwZFqQ2HS7",
        "colab_type": "code",
        "colab": {}
      },
      "source": [
        "coco_label = np.load('/content/drive/My Drive/CoderSchool-Mariana/datasets/MNIST-Fashion/mnist_fashion_augmented_label.npy')\n",
        "coco_test = np.load('/content/drive/My Drive/CoderSchool-Mariana/datasets/MNIST-Fashion/mnist_fashion_augmented_test.npy')"
      ],
      "execution_count": 0,
      "outputs": []
    },
    {
      "cell_type": "code",
      "metadata": {
        "id": "CwC39UdU2iuM",
        "colab_type": "code",
        "outputId": "816dec07-3aff-4a4b-f52e-121bdf35a65c",
        "colab": {
          "base_uri": "https://localhost:8080/",
          "height": 34
        }
      },
      "source": [
        "RFC_accuracy_score = accuracy_score(coco_label,pl_rfc.predict(coco_test))\n",
        "# RFC_confusion_matrix = confusion_matrix(y_test, pipeline_rfc.predict(X_test))\n",
        "\n",
        "print('Accuracy:' , RFC_accuracy_score)\n",
        "# print(RFC_confusion_matrix)"
      ],
      "execution_count": 0,
      "outputs": [
        {
          "output_type": "stream",
          "text": [
            "Accuracy: 0.73775\n"
          ],
          "name": "stdout"
        }
      ]
    },
    {
      "cell_type": "code",
      "metadata": {
        "id": "PPAVx7jp2oD-",
        "colab_type": "code",
        "colab": {}
      },
      "source": [
        "RFC_accuracy_score = accuracy_score(coco_label,pl_lg.predict(coco_test))\n",
        "# RFC_confusion_matrix = confusion_matrix(y_test, pipeline_rfc.predict(X_test))\n",
        "\n",
        "print('Accuracy:' , RFC_accuracy_score)\n",
        "# print(RFC_confusion_matrix)"
      ],
      "execution_count": 0,
      "outputs": []
    },
    {
      "cell_type": "code",
      "metadata": {
        "id": "NOz7x1mFzNKe",
        "colab_type": "code",
        "colab": {}
      },
      "source": [
        "with open('dicky1.pkl', 'wb') as fp:\n",
        "    pickle.dump(pl_lg, fp)"
      ],
      "execution_count": 0,
      "outputs": []
    },
    {
      "cell_type": "code",
      "metadata": {
        "id": "KVQ712JPzS-F",
        "colab_type": "code",
        "colab": {}
      },
      "source": [
        "with open('dicky.pkl', 'rb') as fp:\n",
        "    model = pickle.load(fp)\n",
        "    \n",
        "model"
      ],
      "execution_count": 0,
      "outputs": []
    },
    {
      "cell_type": "code",
      "metadata": {
        "id": "TVjQ0t0DqvqX",
        "colab_type": "code",
        "colab": {}
      },
      "source": [
        "import pickle\n",
        "with open('dicky.pkl', 'wb') as fp:\n",
        "    pickle.dump(pl_rfc, fp)\n"
      ],
      "execution_count": 0,
      "outputs": []
    },
    {
      "cell_type": "code",
      "metadata": {
        "id": "sQKtHSFVq058",
        "colab_type": "code",
        "colab": {}
      },
      "source": [
        "with open('dicky.pkl', 'rb') as fp:\n",
        "    model = pickle.load(fp)\n",
        "    \n",
        "model"
      ],
      "execution_count": 0,
      "outputs": []
    }
  ]
}